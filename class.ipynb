{
  "nbformat": 4,
  "nbformat_minor": 0,
  "metadata": {
    "colab": {
      "provenance": [],
      "authorship_tag": "ABX9TyM+pS/rz2+zW/UKZrji7tGI",
      "include_colab_link": true
    },
    "kernelspec": {
      "name": "python3",
      "display_name": "Python 3"
    },
    "language_info": {
      "name": "python"
    }
  },
  "cells": [
    {
      "cell_type": "markdown",
      "metadata": {
        "id": "view-in-github",
        "colab_type": "text"
      },
      "source": [
        "<a href=\"https://colab.research.google.com/github/9more/Analysis/blob/main/class.ipynb\" target=\"_parent\"><img src=\"https://colab.research.google.com/assets/colab-badge.svg\" alt=\"Open In Colab\"/></a>"
      ]
    },
    {
      "cell_type": "code",
      "execution_count": null,
      "metadata": {
        "id": "N7jM3eKn9JAE"
      },
      "outputs": [],
      "source": [
        "class Student:\n",
        "  def __init__(self, name, age, grade):\n",
        "        self.name = name\n",
        "        self.age = age\n",
        "        self.grade = grade\n",
        "\n",
        "    def get_grade(self):\n",
        "        return self.grade\n",
        "stud1=Student('joe', 23, 4)"
      ]
    },
    {
      "cell_type": "code",
      "source": [
        "import pandas as pd\n",
        "import random\n",
        "d={'name': ['joe', 'phil', 'glo', 'mtn', 'pat'],\n",
        "   'age': [random.randint(20,28) for i in range(5)],\n",
        "   'height':[random.randint(120,168) for i in range(5)],\n",
        "   'grade': [random.randint(50,85) for i in range(5)]\n",
        "   }\n",
        "df=pd.DataFrame(d, index=range(1,6))\n",
        "df.set_index('name', inplace=True)\n",
        "df.plot(kind='bar')"
      ],
      "metadata": {
        "id": "DlJ_jw1d1QWK",
        "colab": {
          "base_uri": "https://localhost:8080/",
          "height": 481
        },
        "outputId": "6b31e7b3-bc7b-4616-cf38-3a839a11a2bc"
      },
      "execution_count": null,
      "outputs": [
        {
          "output_type": "execute_result",
          "data": {
            "text/plain": [
              "<Axes: xlabel='name'>"
            ]
          },
          "metadata": {},
          "execution_count": 7
        },
        {
          "output_type": "display_data",
          "data": {
            "text/plain": [
              "<Figure size 640x480 with 1 Axes>"
            ],
            "image/png": "[encoded data removed]"
          },
          "metadata": {}
        }
      ]
    },
    {
      "cell_type": "code",
      "source": [
        "from datetime import date\n",
        "today =date.today()\n",
        "print('Todays date is'+ ' '+ str(today))"
      ],
      "metadata": {
        "colab": {
          "base_uri": "https://localhost:8080/"
        },
        "id": "NRJmmr_H0ZZt",
        "outputId": "3eadfb4d-3476-4a09-ea5e-9de284deb287"
      },
      "execution_count": null,
      "outputs": [
        {
          "output_type": "stream",
          "name": "stdout",
          "text": [
            "Todays date is 2025-06-12\n"
          ]
        }
      ]
    },
    {
      "cell_type": "code",
      "source": [
        "def title(age, name='imoh'):\n",
        "  #kwargs.keys()==['name', 'age']\n",
        "  #name=kwargs['name']\n",
        "  #age=kwargs['age']\n",
        "  print(f'my name is {name} and I am {age} years old')\n",
        "title(40, 'ubon')"
      ],
      "metadata": {
        "colab": {
          "base_uri": "https://localhost:8080/"
        },
        "id": "xVtDuK0WngJC",
        "outputId": "8606a1e7-2f81-454e-f559-cf275f24f4d4"
      },
      "execution_count": null,
      "outputs": [
        {
          "output_type": "stream",
          "name": "stdout",
          "text": [
            "my name is ubon and I am 40 years old\n"
          ]
        }
      ]
    },
    {
      "cell_type": "code",
      "source": [
        "def name(x):\n",
        "    i=0\n",
        "    while x !=0:\n",
        "      if i==0:\n",
        "        print(x)\n",
        "      elif i>=1:\n",
        "        print(x*(x-i))\n",
        "      else:pass\n",
        "      x-=1\n",
        "      i+=1\n",
        "\n",
        "name(10)"
      ],
      "metadata": {
        "id": "W6vymoCCssq0"
      },
      "execution_count": null,
      "outputs": []
    },
    {
      "cell_type": "code",
      "source": [
        "name= ['joe', 'phil', 'glo', 'mtn']\n",
        "age= [22, 45, 52, 56]\n",
        "x={k:g for k,g in zip(name, age)}\n",
        "print(x)"
      ],
      "metadata": {
        "colab": {
          "base_uri": "https://localhost:8080/"
        },
        "id": "qWouPDo3h6P4",
        "outputId": "1335c782-94e0-491e-d17c-3dd9eb8a5c3b"
      },
      "execution_count": null,
      "outputs": [
        {
          "output_type": "stream",
          "name": "stdout",
          "text": [
            "{'joe': 22, 'phil': 45, 'glo': 52, 'mtn': 56}\n"
          ]
        }
      ]
    },
    {
      "cell_type": "code",
      "source": [
        "import numpy as np\n",
        "\n",
        "b=np.random.randint(20,250, (10,10))\n",
        "np.random.seed(3)\n",
        "print(b)\n",
        "d=b[:,1:]\n",
        "a=(b[:,1:] - b[:, :9])/b[:, :9]\n",
        "print(a.mean())\n",
        "a.min()"
      ],
      "metadata": {
        "colab": {
          "base_uri": "https://localhost:8080/"
        },
        "id": "THvxDjBzujtp",
        "outputId": "1c1554b6-84b0-46a2-bfb8-4c2421147f1c"
      },
      "execution_count": null,
      "outputs": [
        {
          "output_type": "stream",
          "name": "stdout",
          "text": [
            "[[ 22  51  33 228 222 236  88 179  65 104]\n",
            " [239 137 106 139 223 206 221 130 125 218]\n",
            " [177  72  38 121  48 232 119 148 198 134]\n",
            " [130 238 220 150 152 212 132  36 145  39]\n",
            " [ 32 174 244  93 222 206 241  53 226  21]\n",
            " [150 185 186  74 114 116 171 204 127 223]\n",
            " [173 127  88 150  25 119  70  20  95  69]\n",
            " [158 229 116 225 189  22  95 193 122 148]\n",
            " [ 99  69 247 198  42 159  97 200 184 148]\n",
            " [ 42 178 130 138  73  95 223 119 155 186]]\n",
            "0.4520679397934025\n"
          ]
        },
        {
          "output_type": "execute_result",
          "data": {
            "text/plain": [
              "np.float64(-0.9070796460176991)"
            ]
          },
          "metadata": {},
          "execution_count": 1
        }
      ]
    }
  ]
}