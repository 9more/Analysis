{
  "nbformat": 4,
  "nbformat_minor": 0,
  "metadata": {
    "colab": {
      "provenance": [],
      "authorship_tag": "ABX9TyPZGR8paaVYF8DcAYewe3BG",
      "include_colab_link": true
    },
    "kernelspec": {
      "name": "python3",
      "display_name": "Python 3"
    },
    "language_info": {
      "name": "python"
    }
  },
  "cells": [
    {
      "cell_type": "markdown",
      "metadata": {
        "id": "view-in-github",
        "colab_type": "text"
      },
      "source": [
        "<a href=\"https://colab.research.google.com/github/9more/Analysis/blob/main/my_playbook.ipynb\" target=\"_parent\"><img src=\"https://colab.research.google.com/assets/colab-badge.svg\" alt=\"Open In Colab\"/></a>"
      ]
    },
    {
      "cell_type": "code",
      "execution_count": 11,
      "metadata": {
        "id": "JnILaw3j6L8G"
      },
      "outputs": [],
      "source": [
        "x= [x for i,x in enumerate(range(12)) if x <=8]"
      ]
    },
    {
      "cell_type": "code",
      "source": [
        "x"
      ],
      "metadata": {
        "colab": {
          "base_uri": "https://localhost:8080/"
        },
        "id": "dwh3nzoy7Agg",
        "outputId": "927dcbf7-c53a-4205-cd3c-90b6154ce09e"
      },
      "execution_count": 15,
      "outputs": [
        {
          "output_type": "execute_result",
          "data": {
            "text/plain": [
              "[0, 1, 2, 3, 4, 5, 6, 7, 8]"
            ]
          },
          "metadata": {},
          "execution_count": 15
        }
      ]
    },
    {
      "cell_type": "code",
      "source": [
        "y= list(np.arange(12, 21))"
      ],
      "metadata": {
        "id": "EAt6b3Yw7NB-"
      },
      "execution_count": 22,
      "outputs": []
    },
    {
      "cell_type": "code",
      "source": [
        "type(y)"
      ],
      "metadata": {
        "colab": {
          "base_uri": "https://localhost:8080/"
        },
        "id": "ffgoAsNS7cKf",
        "outputId": "40b80761-1833-4389-e4d2-cc0c41290bca"
      },
      "execution_count": 23,
      "outputs": [
        {
          "output_type": "execute_result",
          "data": {
            "text/plain": [
              "list"
            ]
          },
          "metadata": {},
          "execution_count": 23
        }
      ]
    },
    {
      "cell_type": "code",
      "source": [],
      "metadata": {
        "id": "_AsYSOjcIvf8"
      },
      "execution_count": null,
      "outputs": []
    },
    {
      "cell_type": "code",
      "source": [
        "import pandas as pd\n",
        "import numpy as np\n"
      ],
      "metadata": {
        "id": "v7ttDCtS7d73"
      },
      "execution_count": 5,
      "outputs": []
    },
    {
      "cell_type": "code",
      "source": [
        "a = {\n",
        "    'name': ['imoh', 'ubon','esther', 'mary', 'augusta'],\n",
        "    'age': [40,38,33,21,34],\n",
        "    'gender': ['male', 'male', 'female', 'female', 'female']\n",
        "    }"
      ],
      "metadata": {
        "id": "C9bjpBcIygcx"
      },
      "execution_count": 7,
      "outputs": []
    },
    {
      "cell_type": "code",
      "source": [
        "b= [\n",
        "    {'name':'imoh', 'age':40, 'gender':'male'},\n",
        "    {'name':'ubon', 'age':38, 'gender':'male'},\n",
        "    {'name':'esther', 'age':33, 'gender':'female'},\n",
        "    {'name':'mary', 'age': 21, 'gender': 'female'},\n",
        "    {'name':'augusta', 'age': 34, 'gender': 'female'}\n",
        "]"
      ],
      "metadata": {
        "id": "QE2p9tOVHhCq"
      },
      "execution_count": 10,
      "outputs": []
    },
    {
      "cell_type": "code",
      "source": [
        "a.items()"
      ],
      "metadata": {
        "id": "6mpcqaK-KYyO"
      },
      "execution_count": null,
      "outputs": []
    },
    {
      "cell_type": "code",
      "source": [
        "weight = [75, 50, 85, 93, 85.8, 91]"
      ],
      "metadata": {
        "id": "Fkc0qsV5ggNX"
      },
      "execution_count": null,
      "outputs": []
    },
    {
      "cell_type": "code",
      "source": [
        "o = int(input('enter a weight:'  ))"
      ],
      "metadata": {
        "id": "JMsAGQWIka5K"
      },
      "execution_count": null,
      "outputs": []
    },
    {
      "cell_type": "code",
      "source": [
        "def selection_criteria1(*args):\n",
        "  for i in args:\n",
        "    if i <= np.mean(np.array(weight)):\n",
        "      print(i)\n",
        "      print(\"player's weight of {} is less than the avearge\".format(i))\n",
        "      print('Hence, he is not qualified')\n",
        "    else:\n",
        "      print('player is qualified')\n"
      ],
      "metadata": {
        "id": "EwzmPsm8ZTpc"
      },
      "execution_count": null,
      "outputs": []
    },
    {
      "cell_type": "code",
      "source": [
        "del i"
      ],
      "metadata": {
        "id": "cUNBMwUDskW9"
      },
      "execution_count": null,
      "outputs": []
    },
    {
      "cell_type": "code",
      "source": [
        "def selection_criteria(**kwargs):\n",
        "  # Initialize i and t to default values to avoid UnboundLocalError\n",
        "  i = 0\n",
        "  t = 0\n",
        "  # Iterate over items in kwargs, which will give us (key, value) pairs.\n",
        "  for key, value in kwargs.items():\n",
        "    # Assume 'weigh' is the key for weight and 'age' for age.\n",
        "    if key == 'weigh':\n",
        "      i = value  # Assign weight to i\n",
        "    elif key == 'age':\n",
        "      t = value  # Assign age to t\n",
        "\n",
        "    # Proceed with the criteria check.\n",
        "    if i <= np.mean(np.array(weight)) and t <= 43:\n",
        "      print(i)\n",
        "      print(t)\n",
        "      print(\"player's weight of {} is less than the average\".format(i))\n",
        "      print('Hence, he is not qualified')\n",
        "    else:\n",
        "      print('player is qualified')"
      ],
      "metadata": {
        "id": "Oeu7VENQqFxG"
      },
      "execution_count": null,
      "outputs": []
    },
    {
      "cell_type": "code",
      "source": [
        "selection_criteria1(55)"
      ],
      "metadata": {
        "id": "y5nh0dtBewt7"
      },
      "execution_count": null,
      "outputs": []
    },
    {
      "cell_type": "code",
      "source": [
        "np.mean(np.array([75, 50, 85, 93, 85.8, 91]))"
      ],
      "metadata": {
        "id": "3IcBTuvwdcr_"
      },
      "execution_count": null,
      "outputs": []
    },
    {
      "cell_type": "code",
      "source": [
        "weights"
      ],
      "metadata": {
        "id": "m1LpAZh6Kbs2"
      },
      "execution_count": null,
      "outputs": []
    },
    {
      "cell_type": "code",
      "source": [
        "t = {'male':1, 'female':0}"
      ],
      "metadata": {
        "id": "Xmxjus2FLGAq"
      },
      "execution_count": null,
      "outputs": []
    },
    {
      "cell_type": "code",
      "source": [
        "c['g']=c['gender'].map(t)"
      ],
      "metadata": {
        "id": "qwl8yI3j1sdd"
      },
      "execution_count": null,
      "outputs": []
    },
    {
      "cell_type": "code",
      "source": [
        "c.set"
      ],
      "metadata": {
        "id": "Ut3KB3_3zRsC"
      },
      "execution_count": null,
      "outputs": []
    },
    {
      "cell_type": "code",
      "source": [
        "c.drop(c.iloc[:,3:5], axis=1, inplace=True)"
      ],
      "metadata": {
        "id": "yrv3hC3HVM7h"
      },
      "execution_count": null,
      "outputs": []
    },
    {
      "cell_type": "code",
      "source": [
        "df = pd.DataFrame(a, columns=('name', 'age', 'gender'))"
      ],
      "metadata": {
        "id": "5oohQG3Zzbd2"
      },
      "execution_count": null,
      "outputs": []
    },
    {
      "cell_type": "code",
      "source": [],
      "metadata": {
        "id": "2Mu0nNiczf14"
      },
      "execution_count": null,
      "outputs": []
    },
    {
      "cell_type": "code",
      "source": [
        "g = {'male':1, 'female':0}"
      ],
      "metadata": {
        "id": "raL390Sg5Dii"
      },
      "execution_count": null,
      "outputs": []
    },
    {
      "cell_type": "code",
      "source": [
        "df['g'] = df['gender'].map(g)"
      ],
      "metadata": {
        "id": "vrkmN_RT8qoY"
      },
      "execution_count": null,
      "outputs": []
    },
    {
      "cell_type": "code",
      "source": [
        "g['male']"
      ],
      "metadata": {
        "id": "JgARVTwB84kl"
      },
      "execution_count": null,
      "outputs": []
    },
    {
      "cell_type": "code",
      "source": [
        "for x in df['gender']:\n",
        "    df['gender'].replace((x,g[x]))"
      ],
      "metadata": {
        "id": "Sr2HETrd5N4I"
      },
      "execution_count": null,
      "outputs": []
    },
    {
      "cell_type": "code",
      "source": [
        "df"
      ],
      "metadata": {
        "id": "mCyw9XRL7C4o"
      },
      "execution_count": null,
      "outputs": []
    },
    {
      "cell_type": "code",
      "source": [
        "df1= df.values"
      ],
      "metadata": {
        "id": "sVRA71v4c5jG"
      },
      "execution_count": null,
      "outputs": []
    },
    {
      "cell_type": "code",
      "source": [
        "o= np.array([[\n",
        "    [1,3,5],[4,4, 0],\n",
        "    [7,8,9]\n",
        "]])"
      ],
      "metadata": {
        "id": "mnUoqtK8fO5Z"
      },
      "execution_count": null,
      "outputs": []
    },
    {
      "cell_type": "code",
      "source": [
        "o.ndim"
      ],
      "metadata": {
        "id": "h5bCOfO6eFDl"
      },
      "execution_count": null,
      "outputs": []
    },
    {
      "cell_type": "code",
      "source": [
        "a = np.random.randint(low= 9, high = 200, size= (100, 4))"
      ],
      "metadata": {
        "id": "QSFRzFMOc-D8"
      },
      "execution_count": null,
      "outputs": []
    },
    {
      "cell_type": "code",
      "source": [
        "a"
      ],
      "metadata": {
        "id": "t-Rxj_HRdeRb"
      },
      "execution_count": null,
      "outputs": []
    },
    {
      "cell_type": "code",
      "source": [],
      "metadata": {
        "id": "o4qMWN3vnLjK"
      },
      "execution_count": null,
      "outputs": []
    },
    {
      "cell_type": "code",
      "source": [
        "y"
      ],
      "metadata": {
        "id": "ItsyLZyznrow"
      },
      "execution_count": null,
      "outputs": []
    },
    {
      "cell_type": "code",
      "source": [
        "from sklearn.linear_model import LinearRegression\n",
        "from sklearn.metrics import mean_squared_error"
      ],
      "metadata": {
        "id": "8XbfU-q1ntAz"
      },
      "execution_count": null,
      "outputs": []
    },
    {
      "cell_type": "code",
      "source": [
        "model = LinearRegression()\n",
        "model.fit(X,y)"
      ],
      "metadata": {
        "id": "2Q9iHfFVosRI"
      },
      "execution_count": null,
      "outputs": []
    },
    {
      "cell_type": "code",
      "source": [
        "u= (model.predict(X))"
      ],
      "metadata": {
        "id": "ODKNntg1ozew"
      },
      "execution_count": null,
      "outputs": []
    },
    {
      "cell_type": "code",
      "source": [
        "u= pd.Series(u, index=None)"
      ],
      "metadata": {
        "id": "lpWH-jogo4-D"
      },
      "execution_count": null,
      "outputs": []
    },
    {
      "cell_type": "code",
      "source": [
        "pd.set_option('display.max_rows', 101)"
      ],
      "metadata": {
        "id": "BDn2NllVqdq8"
      },
      "execution_count": null,
      "outputs": []
    },
    {
      "cell_type": "code",
      "source": [
        "u.drop(index=0, inplace=True)"
      ],
      "metadata": {
        "id": "PUqN4xFoqvzY"
      },
      "execution_count": null,
      "outputs": []
    },
    {
      "cell_type": "code",
      "source": [
        "u"
      ],
      "metadata": {
        "id": "_2wTPozE-NpF"
      },
      "execution_count": null,
      "outputs": []
    },
    {
      "cell_type": "code",
      "source": [
        "name = 'imoh'\n",
        "age = 41"
      ],
      "metadata": {
        "id": "Zyh2cl4HBEfF"
      },
      "execution_count": null,
      "outputs": []
    },
    {
      "cell_type": "code",
      "source": [
        "print('my name is %s and I am %d years old' % (name, age))"
      ],
      "metadata": {
        "id": "kEaYZHsvBONZ"
      },
      "execution_count": null,
      "outputs": []
    },
    {
      "cell_type": "code",
      "source": [
        "print('my name is {} and I am {} years old'.format(name, age))"
      ],
      "metadata": {
        "id": "4lzLdcjUCuDD"
      },
      "execution_count": null,
      "outputs": []
    },
    {
      "cell_type": "code",
      "source": [
        "print(f'my name is {name} and I am {age} years old ')"
      ],
      "metadata": {
        "id": "cVZZqdSVC_65"
      },
      "execution_count": null,
      "outputs": []
    },
    {
      "cell_type": "code",
      "source": [
        "y= lambda x: 2*x**2%3"
      ],
      "metadata": {
        "id": "HZ5zrfikq0By"
      },
      "execution_count": null,
      "outputs": []
    },
    {
      "cell_type": "code",
      "source": [],
      "metadata": {
        "id": "P1VPmmrzj2ZF"
      },
      "execution_count": null,
      "outputs": []
    },
    {
      "cell_type": "code",
      "source": [
        "y(2.5)"
      ],
      "metadata": {
        "id": "lSbkO8-XrC7B"
      },
      "execution_count": null,
      "outputs": []
    },
    {
      "cell_type": "code",
      "source": [
        "import numpy as np"
      ],
      "metadata": {
        "id": "sW3TINzAj3NI"
      },
      "execution_count": null,
      "outputs": []
    },
    {
      "cell_type": "code",
      "source": [
        "data=np.random.randint(low=20, high=100, size=(100,5))"
      ],
      "metadata": {
        "id": "T6ELdwwAjlkl"
      },
      "execution_count": null,
      "outputs": []
    },
    {
      "cell_type": "code",
      "source": [
        "data= pd.DataFrame(data, columns=('A', 'B', 'C', 'D', 'E'))"
      ],
      "metadata": {
        "id": "yoqgIO7Uj67Z"
      },
      "execution_count": null,
      "outputs": []
    },
    {
      "cell_type": "code",
      "source": [
        "y"
      ],
      "metadata": {
        "id": "6-JJjkHRj9-m"
      },
      "execution_count": null,
      "outputs": []
    },
    {
      "cell_type": "code",
      "source": [
        "alpha=np.linspace(1,5,5)\n",
        "alpha=alpha.tolist()\n",
        "type(alpha)"
      ],
      "metadata": {
        "id": "AHWan9QSkMpe"
      },
      "execution_count": null,
      "outputs": []
    },
    {
      "cell_type": "code",
      "source": [
        "import warnings\n",
        "\n",
        "import warnings\n",
        "warnings.filterwarnings(\"ignore\")"
      ],
      "metadata": {
        "id": "Td1owWXTeiXt"
      },
      "execution_count": null,
      "outputs": []
    },
    {
      "cell_type": "code",
      "source": [
        "from sklearn.linear_model import RidgeCV\n",
        "from sklearn.metrics import mean_squared_error\n",
        "from sklearn.metrics import r2_score\n",
        "from sklearn.preprocessing import StandardScaler\n",
        "from sklearn.linear_model import LinearRegression\n",
        "from sklearn.linear_model import LassoCV\n",
        "from sklearn.model_selection import GridSearchCV"
      ],
      "metadata": {
        "id": "5QVUjm8gke_f"
      },
      "execution_count": null,
      "outputs": []
    },
    {
      "cell_type": "code",
      "source": [
        "ridge = RidgeCV(alphas=alpha, cv=5)"
      ],
      "metadata": {
        "id": "N6gqaWbkkiPt"
      },
      "execution_count": null,
      "outputs": []
    },
    {
      "cell_type": "code",
      "source": [
        "X= data.drop('E', axis=1)\n",
        "y= data['E']"
      ],
      "metadata": {
        "id": "ptFbIDXqm7Q7"
      },
      "execution_count": null,
      "outputs": []
    },
    {
      "cell_type": "code",
      "source": [
        "Xs= StandardScaler().fit_transform(X)\n",
        "Xtest = Xs.transform(X)"
      ],
      "metadata": {
        "id": "PoqReMHjnEZo"
      },
      "execution_count": null,
      "outputs": []
    },
    {
      "cell_type": "markdown",
      "source": [
        "#Model Selection"
      ],
      "metadata": {
        "id": "qjwWMFhL7tUd"
      }
    },
    {
      "cell_type": "code",
      "source": [
        "from sklearn.model_selection import cross_val_score, KFold\n",
        "from sklearn.svm import SVC\n",
        "from sklearn.datasets import load_iris"
      ],
      "metadata": {
        "id": "jI2o9wcW7ytA"
      },
      "execution_count": null,
      "outputs": []
    },
    {
      "cell_type": "code",
      "source": [
        "iris = load_iris()\n",
        "iris.keys()\n",
        "X, y = iris.data, iris.target"
      ],
      "metadata": {
        "id": "oiHct6IS71LJ"
      },
      "execution_count": null,
      "outputs": []
    },
    {
      "cell_type": "code",
      "source": [
        "for a in alpha:\n",
        "  ridge = RidgeCV(alphas= [a], cv=5)\n",
        "  lasso = LassoCV(alphas=[a], cv=5)\n",
        "  ridge.fit(X,y)\n",
        "  lasso.fit(X,y)\n",
        "  lr = LinearRegression()\n",
        "  lr.fit(X,y)\n",
        "  print(a)\n",
        "  (f'ridge:=  {mean_squared_error(ridge.predict(X), y)}')\n",
        "  print(f'lasso:=  {mean_squared_error(lasso.predict(X), y)}')\n",
        "  print(f'reg:=  {mean_squared_error(lr.predict(X), y)}:2f')\n",
        "\n"
      ],
      "metadata": {
        "id": "CnMMUFlIms5H"
      },
      "execution_count": null,
      "outputs": []
    },
    {
      "cell_type": "code",
      "source": [],
      "metadata": {
        "id": "KgWuotILWxby"
      },
      "execution_count": null,
      "outputs": []
    }
  ]
}